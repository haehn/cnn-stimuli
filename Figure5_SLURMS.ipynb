{
 "cells": [
  {
   "cell_type": "code",
   "execution_count": 2,
   "metadata": {
    "collapsed": true
   },
   "outputs": [],
   "source": [
    "import os\n",
    "from string import Template"
   ]
  },
  {
   "cell_type": "code",
   "execution_count": 5,
   "metadata": {
    "collapsed": true
   },
   "outputs": [],
   "source": [
    "SLURM_DIR = './SLURMS/Figure5/'\n",
    "#os.makedirs(SLURM_DIR)"
   ]
  },
  {
   "cell_type": "code",
   "execution_count": 3,
   "metadata": {},
   "outputs": [],
   "source": [
    "SLURM_TEMPLATE = Template('''#!/bin/bash\n",
    "#SBATCH -p cox\n",
    "#SBATCH -n 1 # Number of cores\n",
    "#SBATCH -N 1 # Ensure that all cores are on one machine\n",
    "#SBATCH --gres=gpu\n",
    "#SBATCH --array=1-4\n",
    "#SBATCH --mem=$memory\n",
    "#SBATCH -t 3-00:00\n",
    "#SBATCH --mail-type=ALL\n",
    "#SBATCH --mail-user=ian.svetkey@gmail.com\n",
    "#SBATCH -o /n/home05/isvetkey/cnn-stimuli/SLURMS/Figure5/LOGS/%A_%a.out\n",
    "#SBATCH -e /n/home05/isvetkey/cnn-stimuli/SLURMS/Figure5/LOGS/%A_%a.err\n",
    "\n",
    "# Print this sub-job's task ID\n",
    "echo \"My SLURM_ARRAY_TASK_ID: \" $SLURM_ARRAY_TASK_ID\n",
    "\n",
    "source new-modules.sh\n",
    "\n",
    "module load Anaconda/5.0.1-fasrc01\n",
    "\n",
    "cd /n/home05/isvetkey/cnn-stimuli/\n",
    "\n",
    "source activate CP\n",
    "\n",
    "python run_regression_isvetkey.py $experiment $dataset $classifier $noise $SLURM_ARRAY_TASK_ID \n",
    "\n",
    "# end\n",
    "exit 0;\n",
    "''')"
   ]
  },
  {
   "cell_type": "code",
   "execution_count": null,
   "metadata": {
    "collapsed": true
   },
   "outputs": [],
   "source": [
    "# Full table of numbers --> flags\n",
    "# 0 = [False, False, False]\n",
    "# 1 = [False, False, True]\n",
    "# 2 = [False, True, False]\n",
    "# 3 = [False, True, True]\n",
    "# 4 = [True, False, False]\n",
    "# 5 = [True, False, True]\n",
    "# 6 = [True, True, False]\n",
    "# 7 = [True, True, True]"
   ]
  },
  {
   "cell_type": "code",
   "execution_count": 6,
   "metadata": {},
   "outputs": [],
   "source": [
    "Experiments = {\n",
    "  #ignore flag 1 for pos bc it's irrelevant: combos are [2, 3], [2], [3], and [] (or FTT, FTF, FFT and FFF)\n",
    "  's.Figure5.position_common_scale': range(4), \n",
    "  's.Figure5.position_non_aligned_scale': range(4),\n",
    "  #don't ignore flag 1 for others: all combos from [] to [1, 2, 3] (or FFF, FFT, FTF, FTT, TFF, etc to TTT)\n",
    "  's.Figure5.length': range(8),\n",
    "  's.Figure5.direction': range(8),\n",
    "  's.Figure5.angle': range(8), \n",
    "  's.Figure5.area': range(8),\n",
    "  's.Figure5.volume': range(8),\n",
    "  's.Figure5.curvature': range(8),\n",
    "}\n",
    "\n",
    "#are those numbers the amount of memory each one takes up?\n",
    "Classifiers = {\n",
    "  'MLP': '8000',\n",
    "  'LeNet': '8000',\n",
    "  'VGG19': '20000',\n",
    "  'XCEPTION': '32000'\n",
    "}\n",
    "\n",
    "Noise = ['True', 'False']\n",
    "\n",
    "for e in Experiments:\n",
    "  Datasets = Experiments[e]\n",
    "  for d in Datasets:\n",
    "    for c in Classifiers:\n",
    "      m = Classifiers[c]\n",
    "      for n in Noise:\n",
    "        \n",
    "        new_slurm = SLURM_TEMPLATE.substitute(experiment=e, memory=m, dataset=str(d), classifier=c, noise=n, SLURM_ARRAY_TASK_ID='$SLURM_ARRAY_TASK_ID')\n",
    "        with open(os.path.join(SLURM_DIR, e+'_'+str(d)+'_'+c+'_'+n+'.sbatch'), 'w') as f:\n",
    "          f.write(new_slurm)\n",
    "\n"
   ]
  },
  {
   "cell_type": "code",
   "execution_count": null,
   "metadata": {
    "collapsed": true
   },
   "outputs": [],
   "source": []
  }
 ],
 "metadata": {
  "kernelspec": {
   "display_name": "Python 2",
   "language": "python",
   "name": "python2"
  },
  "language_info": {
   "codemirror_mode": {
    "name": "ipython",
    "version": 2
   },
   "file_extension": ".py",
   "mimetype": "text/x-python",
   "name": "python",
   "nbconvert_exporter": "python",
   "pygments_lexer": "ipython2",
   "version": "2.7.14"
  }
 },
 "nbformat": 4,
 "nbformat_minor": 2
}
