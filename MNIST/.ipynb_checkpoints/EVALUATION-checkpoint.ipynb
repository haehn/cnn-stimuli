{
 "cells": [
  {
   "cell_type": "code",
   "execution_count": 2,
   "metadata": {},
   "outputs": [
    {
     "name": "stdout",
     "output_type": "stream",
     "text": [
      "Populating the interactive namespace from numpy and matplotlib\n"
     ]
    }
   ],
   "source": [
    "import sklearn.metrics as m\n",
    "import cPickle as pickle\n",
    "\n",
    "%pylab inline"
   ]
  },
  {
   "cell_type": "code",
   "execution_count": 63,
   "metadata": {
    "collapsed": true
   },
   "outputs": [],
   "source": [
    "with open('Stats_Files/mnreg.p', 'r') as r:\n",
    "    y_true, y_pred = pickle.load(r)"
   ]
  },
  {
   "cell_type": "code",
   "execution_count": 64,
   "metadata": {
    "collapsed": true
   },
   "outputs": [],
   "source": [
    "# regression first"
   ]
  },
  {
   "cell_type": "code",
   "execution_count": 65,
   "metadata": {},
   "outputs": [
    {
     "name": "stdout",
     "output_type": "stream",
     "text": [
      "[ 0.7  0.2  0.1  0.   0.4  0.1  0.4  0.9  0.5  0.9] [ 0.64882439  0.2015522   0.09127052 -0.06826521  0.37774044  0.08017346\n",
      "  0.45407152  0.89928651  0.51786786  0.903808  ]\n"
     ]
    }
   ],
   "source": [
    "# what does the data look like?\n",
    "print y_true[0:10], y_pred[0:10]"
   ]
  },
  {
   "cell_type": "code",
   "execution_count": 68,
   "metadata": {},
   "outputs": [
    {
     "data": {
      "text/plain": [
       "0.035708628011941912"
      ]
     },
     "execution_count": 68,
     "metadata": {},
     "output_type": "execute_result"
    }
   ],
   "source": [
    "m.mean_absolute_error(y_true, y_pred)"
   ]
  },
  {
   "cell_type": "code",
   "execution_count": 67,
   "metadata": {},
   "outputs": [
    {
     "name": "stdout",
     "output_type": "stream",
     "text": [
      "<type 'list'>\n"
     ]
    }
   ],
   "source": [
    "# now classification"
   ]
  },
  {
   "cell_type": "code",
   "execution_count": 43,
   "metadata": {
    "collapsed": true
   },
   "outputs": [],
   "source": [
    "with open('Stats_Files/mnclass.p', 'r') as r2:\n",
    "    y_true, y_pred = pickle.load(r2)"
   ]
  },
  {
   "cell_type": "code",
   "execution_count": 44,
   "metadata": {},
   "outputs": [
    {
     "name": "stdout",
     "output_type": "stream",
     "text": [
      "[[ 0.  0.  0.  0.  0.  0.  0.  1.  0.  0.]\n",
      " [ 0.  0.  1.  0.  0.  0.  0.  0.  0.  0.]\n",
      " [ 0.  1.  0.  0.  0.  0.  0.  0.  0.  0.]\n",
      " [ 1.  0.  0.  0.  0.  0.  0.  0.  0.  0.]\n",
      " [ 0.  0.  0.  0.  1.  0.  0.  0.  0.  0.]\n",
      " [ 0.  1.  0.  0.  0.  0.  0.  0.  0.  0.]\n",
      " [ 0.  0.  0.  0.  1.  0.  0.  0.  0.  0.]\n",
      " [ 0.  0.  0.  0.  0.  0.  0.  0.  0.  1.]\n",
      " [ 0.  0.  0.  0.  0.  1.  0.  0.  0.  0.]\n",
      " [ 0.  0.  0.  0.  0.  0.  0.  0.  0.  1.]] [[  5.79800563e-09   2.74631512e-10   8.41471035e-08   1.57906797e-07\n",
      "    5.75131468e-13   3.16824900e-11   7.65852410e-16   9.99999762e-01\n",
      "    7.51467777e-09   3.49608449e-08]\n",
      " [  5.85396265e-08   1.16747344e-06   9.99998808e-01   2.64428705e-11\n",
      "    8.80831934e-14   8.14291143e-15   3.14318740e-08   2.69760212e-12\n",
      "    4.16711954e-09   1.05275606e-11]\n",
      " [  1.38227699e-06   9.99968529e-01   5.47972490e-07   1.24352070e-10\n",
      "    1.10016090e-05   1.91771292e-08   8.10867391e-08   1.66400951e-05\n",
      "    1.56762064e-06   1.04795227e-07]\n",
      " [  9.99998808e-01   4.12748669e-10   5.76537218e-08   1.48880519e-09\n",
      "    2.19098406e-10   3.33666463e-08   1.05186746e-06   9.67060210e-09\n",
      "    3.97933353e-10   9.49749932e-08]\n",
      " [  2.00785943e-09   1.40601015e-08   3.85756671e-09   2.66381495e-09\n",
      "    9.99909282e-01   1.81707682e-09   9.53695878e-09   1.83425168e-08\n",
      "    9.15273013e-09   9.07134236e-05]\n",
      " [  6.95471130e-08   9.99991298e-01   3.05221093e-08   4.64804237e-12\n",
      "    7.25980783e-07   1.33058592e-10   6.22789320e-10   7.68916107e-06\n",
      "    8.07405627e-08   4.44915607e-08]\n",
      " [  2.50817683e-12   4.26611351e-08   1.87510198e-11   8.55229151e-11\n",
      "    9.99960780e-01   3.48196671e-08   1.55593274e-10   1.33200587e-07\n",
      "    2.84710700e-06   3.62741084e-05]\n",
      " [  2.30069172e-10   2.82736479e-09   6.66021194e-08   1.75472223e-07\n",
      "    4.21418408e-05   1.09998939e-06   6.39871316e-12   5.93914917e-11\n",
      "    1.16980311e-06   9.99955297e-01]\n",
      " [  1.25997900e-07   8.49863420e-13   3.10764713e-11   3.18664012e-10\n",
      "    5.72257761e-08   9.19034004e-01   8.08467269e-02   4.08975452e-13\n",
      "    1.13240349e-04   5.80899859e-06]\n",
      " [  5.85041182e-11   3.79241533e-13   4.06192802e-10   9.36775919e-08\n",
      "    3.59238720e-06   4.28585301e-09   1.99836248e-14   5.72726503e-06\n",
      "    1.51948058e-07   9.99990463e-01]]\n"
     ]
    }
   ],
   "source": [
    "# what does the data look like?\n",
    "print y_true[0:10], y_pred[0:10]"
   ]
  },
  {
   "cell_type": "code",
   "execution_count": 60,
   "metadata": {},
   "outputs": [
    {
     "name": "stdout",
     "output_type": "stream",
     "text": [
      "<type 'list'>\n"
     ]
    }
   ],
   "source": [
    "# decode the one-hot-encoding, find the largest element in the 10 class output and use the index as the value\n",
    "y_true_decoded = []\n",
    "for y in y_true:\n",
    "    y_true_decoded.append(np.argmax(y))\n",
    "y_pred_decoded = []\n",
    "for y in y_pred:\n",
    "    y_pred_decoded.append(np.argmax(y))"
   ]
  },
  {
   "cell_type": "code",
   "execution_count": 52,
   "metadata": {},
   "outputs": [
    {
     "data": {
      "text/plain": [
       "0.0028605419"
      ]
     },
     "execution_count": 52,
     "metadata": {},
     "output_type": "execute_result"
    }
   ],
   "source": [
    "m.mean_absolute_error(y_true, y_pred)"
   ]
  },
  {
   "cell_type": "code",
   "execution_count": 3,
   "metadata": {},
   "outputs": [],
   "source": [
    "with open('Stats_Files/mnvggreg.p', 'r') as r:\n",
    "    y_true, y_pred = pickle.load(r)"
   ]
  },
  {
   "cell_type": "code",
   "execution_count": 4,
   "metadata": {},
   "outputs": [
    {
     "name": "stdout",
     "output_type": "stream",
     "text": [
      "[ 0.7  0.2  0.1  0.   0.4  0.1  0.4  0.9  0.5  0.9] [ 0.44524175  0.43814218  0.43219391  0.44068727  0.4441666   0.43492594\n",
      "  0.44792217  0.44701666  0.44146106  0.45100954]\n"
     ]
    }
   ],
   "source": [
    "print y_true[0:10], y_pred[0:10]"
   ]
  },
  {
   "cell_type": "code",
   "execution_count": null,
   "metadata": {
    "collapsed": true
   },
   "outputs": [],
   "source": [
    "#they all come out as .4 something with VGG and it's weird"
   ]
  }
 ],
 "metadata": {
  "kernelspec": {
   "display_name": "Python 2",
   "language": "python",
   "name": "python2"
  },
  "language_info": {
   "codemirror_mode": {
    "name": "ipython",
    "version": 2
   },
   "file_extension": ".py",
   "mimetype": "text/x-python",
   "name": "python",
   "nbconvert_exporter": "python",
   "pygments_lexer": "ipython2",
   "version": "2.7.14"
  }
 },
 "nbformat": 4,
 "nbformat_minor": 2
}
