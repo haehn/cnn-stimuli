{
 "cells": [
  {
   "cell_type": "code",
   "execution_count": 8,
   "metadata": {},
   "outputs": [],
   "source": [
    "from keras.datasets import mnist\n",
    "from keras.models import Sequential\n",
    "from keras.layers import Dense\n",
    "from keras.layers import Dropout\n",
    "from keras.layers import Flatten\n",
    "from keras.layers.convolutional import Conv2D\n",
    "from keras.layers.convolutional import MaxPooling2D\n",
    "from keras.utils import np_utils\n",
    "from keras import backend as K\n",
    "import tensorflow\n",
    "import numpy as np\n",
    "import cPickle as pickle\n",
    "K.set_image_dim_ordering('th')\n",
    "np.random.seed(6)"
   ]
  },
  {
   "cell_type": "code",
   "execution_count": 2,
   "metadata": {
    "collapsed": true
   },
   "outputs": [],
   "source": [
    "# load data\n",
    "(X_train, y_train), (X_test, y_test) = mnist.load_data()\n",
    "# reshape to be [samples][pixels][width][height]\n",
    "X_train = X_train.reshape(X_train.shape[0], 1, 28, 28).astype('float32')\n",
    "X_test = X_test.reshape(X_test.shape[0], 1, 28, 28).astype('float32')\n",
    "\n",
    "# normalize inputs from 0-255 to 0-1\n",
    "X_train = X_train / 255\n",
    "X_test = X_test / 255\n",
    "# one hot encode outputs\n",
    "y_train = np_utils.to_categorical(y_train)\n",
    "y_test = np_utils.to_categorical(y_test)\n",
    "num_classes = y_test.shape[1]"
   ]
  },
  {
   "cell_type": "code",
   "execution_count": 3,
   "metadata": {
    "collapsed": true
   },
   "outputs": [],
   "source": [
    "def baseline_model():\n",
    "    # create model\n",
    "    model = Sequential()\n",
    "    model.add(Conv2D(32, (5, 5), input_shape=(1, 28, 28), activation='relu'))\n",
    "    model.add(MaxPooling2D(pool_size=(2, 2)))\n",
    "    model.add(Dropout(0.2))\n",
    "    model.add(Flatten())\n",
    "    model.add(Dense(128, activation='relu'))\n",
    "    model.add(Dense(num_classes, activation=tensorflow.nn.softmax))\n",
    "    # Compile model\n",
    "    model.compile(loss='categorical_crossentropy', optimizer='adam', metrics=['accuracy'])\n",
    "    return model"
   ]
  },
  {
   "cell_type": "code",
   "execution_count": 4,
   "metadata": {},
   "outputs": [
    {
     "name": "stdout",
     "output_type": "stream",
     "text": [
      "Train on 60000 samples, validate on 10000 samples\n",
      "Epoch 1/10\n",
      " - 3s - loss: 0.2322 - acc: 0.9347 - val_loss: 0.0716 - val_acc: 0.9789\n",
      "Epoch 2/10\n",
      " - 3s - loss: 0.0707 - acc: 0.9788 - val_loss: 0.0519 - val_acc: 0.9829\n",
      "Epoch 3/10\n",
      " - 3s - loss: 0.0508 - acc: 0.9846 - val_loss: 0.0448 - val_acc: 0.9853\n",
      "Epoch 4/10\n",
      " - 3s - loss: 0.0384 - acc: 0.9883 - val_loss: 0.0376 - val_acc: 0.9873\n",
      "Epoch 5/10\n",
      " - 3s - loss: 0.0321 - acc: 0.9901 - val_loss: 0.0350 - val_acc: 0.9883\n",
      "Epoch 6/10\n",
      " - 3s - loss: 0.0252 - acc: 0.9922 - val_loss: 0.0313 - val_acc: 0.9883\n",
      "Epoch 7/10\n",
      " - 3s - loss: 0.0211 - acc: 0.9934 - val_loss: 0.0329 - val_acc: 0.9891\n",
      "Epoch 8/10\n",
      " - 3s - loss: 0.0190 - acc: 0.9939 - val_loss: 0.0324 - val_acc: 0.9893\n",
      "Epoch 9/10\n",
      " - 3s - loss: 0.0147 - acc: 0.9952 - val_loss: 0.0303 - val_acc: 0.9891\n",
      "Epoch 10/10\n",
      " - 3s - loss: 0.0131 - acc: 0.9958 - val_loss: 0.0331 - val_acc: 0.9892\n"
     ]
    }
   ],
   "source": [
    "# build the model\n",
    "model = baseline_model()\n",
    "# Fit the model\n",
    "model.fit(X_train, y_train, validation_data=(X_test, y_test), epochs=10, batch_size=200, verbose=2)\n",
    "# Final evaluation of the model\n",
    "y_pred = model.evaluate(X_test, y_test, verbose=0)"
   ]
  },
  {
   "cell_type": "code",
   "execution_count": 5,
   "metadata": {
    "collapsed": true
   },
   "outputs": [],
   "source": [
    "y_pred = model.predict(X_test)"
   ]
  },
  {
   "cell_type": "code",
   "execution_count": 6,
   "metadata": {},
   "outputs": [
    {
     "name": "stdout",
     "output_type": "stream",
     "text": [
      "[[  5.79800563e-09   2.74631512e-10   8.41471035e-08   1.57906797e-07\n",
      "    5.75131468e-13   3.16824900e-11   7.65852410e-16   9.99999762e-01\n",
      "    7.51467777e-09   3.49608449e-08]\n",
      " [  5.85396265e-08   1.16747344e-06   9.99998808e-01   2.64428705e-11\n",
      "    8.80831934e-14   8.14291143e-15   3.14318740e-08   2.69760212e-12\n",
      "    4.16711954e-09   1.05275606e-11]\n",
      " [  1.38227699e-06   9.99968529e-01   5.47972490e-07   1.24352070e-10\n",
      "    1.10016090e-05   1.91771292e-08   8.10867391e-08   1.66400951e-05\n",
      "    1.56762064e-06   1.04795227e-07]\n",
      " [  9.99998808e-01   4.12748669e-10   5.76537218e-08   1.48880519e-09\n",
      "    2.19098406e-10   3.33666463e-08   1.05186746e-06   9.67060210e-09\n",
      "    3.97933353e-10   9.49749932e-08]\n",
      " [  2.00785943e-09   1.40601015e-08   3.85756671e-09   2.66381495e-09\n",
      "    9.99909282e-01   1.81707682e-09   9.53695878e-09   1.83425168e-08\n",
      "    9.15273013e-09   9.07134236e-05]]\n"
     ]
    }
   ],
   "source": [
    "print(y_pred[0:5])"
   ]
  },
  {
   "cell_type": "code",
   "execution_count": 9,
   "metadata": {},
   "outputs": [],
   "source": [
    "stats = (y_test, y_pred)\n",
    "with open('Stats_Files/mnclass.p', 'w') as f:\n",
    "    pickle.dump(stats, f)"
   ]
  },
  {
   "cell_type": "code",
   "execution_count": null,
   "metadata": {
    "collapsed": true
   },
   "outputs": [],
   "source": []
  }
 ],
 "metadata": {
  "kernelspec": {
   "display_name": "Python 2",
   "language": "python",
   "name": "python2"
  },
  "language_info": {
   "codemirror_mode": {
    "name": "ipython",
    "version": 2
   },
   "file_extension": ".py",
   "mimetype": "text/x-python",
   "name": "python",
   "nbconvert_exporter": "python",
   "pygments_lexer": "ipython2",
   "version": "2.7.14"
  }
 },
 "nbformat": 4,
 "nbformat_minor": 2
}
