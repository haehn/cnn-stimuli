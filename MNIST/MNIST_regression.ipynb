{
 "cells": [
  {
   "cell_type": "code",
   "execution_count": 1,
   "metadata": {},
   "outputs": [
    {
     "name": "stderr",
     "output_type": "stream",
     "text": [
      "Using TensorFlow backend.\n"
     ]
    }
   ],
   "source": [
    "from keras.datasets import mnist\n",
    "from keras.models import Sequential\n",
    "from keras.layers import Dense\n",
    "from keras.layers import Dropout\n",
    "from keras.layers import Flatten\n",
    "from keras.layers.convolutional import Conv2D\n",
    "from keras.layers.convolutional import MaxPooling2D\n",
    "from keras.utils import np_utils\n",
    "from keras import backend as K\n",
    "import numpy as np\n",
    "import cPickle as pickle\n",
    "K.set_image_dim_ordering('th')\n",
    "# load data\n",
    "(X_train, y_train), (X_test, y_test) = mnist.load_data()\n",
    "# reshape to be [samples][pixels][width][height]\n",
    "X_train = X_train.reshape(X_train.shape[0], 1, 28, 28).astype('float32')\n",
    "X_test = X_test.reshape(X_test.shape[0], 1, 28, 28).astype('float32')\n",
    "np.random.seed(6)\n",
    "# normalize inputs from 0-255 to 0-1\n",
    "X_train = X_train / 255\n",
    "X_test = X_test / 255\n",
    "y_train = y_train / 10.\n",
    "y_test = y_test / 10.\n",
    "num_classes = 1"
   ]
  },
  {
   "cell_type": "code",
   "execution_count": 2,
   "metadata": {
    "collapsed": true
   },
   "outputs": [],
   "source": [
    "def baseline_model():\n",
    "    # create model\n",
    "    model = Sequential()\n",
    "    model.add(Conv2D(32, (5, 5), input_shape=(1, 28, 28), activation='relu'))\n",
    "    model.add(MaxPooling2D(pool_size=(2, 2)))\n",
    "    model.add(Dropout(0.2))\n",
    "    model.add(Flatten())\n",
    "    model.add(Dense(128, activation='relu'))\n",
    "    \n",
    "    model.add(Dense(num_classes, activation='linear'))\n",
    "    # Compile model\n",
    "    model.compile(loss='mean_squared_error', optimizer='adam', metrics=['mse'])\n",
    "    return model"
   ]
  },
  {
   "cell_type": "code",
   "execution_count": 3,
   "metadata": {
    "collapsed": true
   },
   "outputs": [],
   "source": [
    "# build the model\n",
    "model = baseline_model()"
   ]
  },
  {
   "cell_type": "code",
   "execution_count": 4,
   "metadata": {},
   "outputs": [
    {
     "name": "stdout",
     "output_type": "stream",
     "text": [
      "Train on 60000 samples, validate on 10000 samples\n",
      "Epoch 1/10\n",
      " - 3s - loss: 0.0258 - mean_squared_error: 0.0258 - val_loss: 0.0094 - val_mean_squared_error: 0.0094\n",
      "Epoch 2/10\n",
      " - 2s - loss: 0.0087 - mean_squared_error: 0.0087 - val_loss: 0.0066 - val_mean_squared_error: 0.0066\n",
      "Epoch 3/10\n",
      " - 2s - loss: 0.0066 - mean_squared_error: 0.0066 - val_loss: 0.0056 - val_mean_squared_error: 0.0056\n",
      "Epoch 4/10\n",
      " - 2s - loss: 0.0056 - mean_squared_error: 0.0056 - val_loss: 0.0051 - val_mean_squared_error: 0.0051\n",
      "Epoch 5/10\n",
      " - 2s - loss: 0.0049 - mean_squared_error: 0.0049 - val_loss: 0.0047 - val_mean_squared_error: 0.0047\n",
      "Epoch 6/10\n",
      " - 2s - loss: 0.0043 - mean_squared_error: 0.0043 - val_loss: 0.0047 - val_mean_squared_error: 0.0047\n",
      "Epoch 7/10\n",
      " - 2s - loss: 0.0040 - mean_squared_error: 0.0040 - val_loss: 0.0040 - val_mean_squared_error: 0.0040\n",
      "Epoch 8/10\n",
      " - 2s - loss: 0.0038 - mean_squared_error: 0.0038 - val_loss: 0.0041 - val_mean_squared_error: 0.0041\n",
      "Epoch 9/10\n",
      " - 2s - loss: 0.0035 - mean_squared_error: 0.0035 - val_loss: 0.0038 - val_mean_squared_error: 0.0038\n",
      "Epoch 10/10\n",
      " - 2s - loss: 0.0033 - mean_squared_error: 0.0033 - val_loss: 0.0037 - val_mean_squared_error: 0.0037\n"
     ]
    }
   ],
   "source": [
    "# now we just predict and evaluate later..\n",
    "model.fit(X_train, y_train, validation_data=(X_test, y_test), epochs=10, batch_size=200, verbose=2)\n",
    "y_pred = model.predict(X_test)\n",
    "y_pred = np.ndarray.flatten(y_pred) #get rid of unnecessary 2D array boxing of 1 number"
   ]
  },
  {
   "cell_type": "code",
   "execution_count": 11,
   "metadata": {},
   "outputs": [],
   "source": [
    "stats = (y_test, y_pred)\n",
    "with open('Stats_Files/mnreg.p', 'w') as f:\n",
    "    pickle.dump(stats, f)"
   ]
  }
 ],
 "metadata": {
  "kernelspec": {
   "display_name": "Python 2",
   "language": "python",
   "name": "python2"
  },
  "language_info": {
   "codemirror_mode": {
    "name": "ipython",
    "version": 2
   },
   "file_extension": ".py",
   "mimetype": "text/x-python",
   "name": "python",
   "nbconvert_exporter": "python",
   "pygments_lexer": "ipython2",
   "version": "2.7.14"
  }
 },
 "nbformat": 4,
 "nbformat_minor": 2
}
