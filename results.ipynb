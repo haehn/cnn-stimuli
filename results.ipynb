{
 "cells": [
  {
   "cell_type": "code",
   "execution_count": 1,
   "metadata": {
    "collapsed": true
   },
   "outputs": [],
   "source": [
    "import numpy as np\n",
    "import cPickle as pickle"
   ]
  },
  {
   "cell_type": "code",
   "execution_count": 2,
   "metadata": {
    "collapsed": true
   },
   "outputs": [],
   "source": [
    "experiments = ['angle', 'length', 'direction', 'position_common_scale', \n",
    "               'position_non_aligned_scale', 'area', 'volume', 'curvature']\n",
    "MLAE = dict()\n",
    "for e in experiments:\n",
    "    MLAE[e] = []\n",
    "    for i in range(1, 5):\n",
    "        with open('RESULTS/s.Figure5.'+e+'/0/VGG19/' + str(i) + '.p', 'r') as f:\n",
    "            MLAE[e].append(pickle.load(f)['MLAE'])\n",
    "            "
   ]
  },
  {
   "cell_type": "code",
   "execution_count": 3,
   "metadata": {},
   "outputs": [
    {
     "name": "stdout",
     "output_type": "stream",
     "text": [
      "{'direction': [4.6545429449297284, 4.6573741713100363, 4.6543661569613262, 4.6542020241402255], 'angle': [4.6623337163956204, 4.665531859047042, 4.6679279599617338, 4.6689799595096844], 'area': [4.8204933550573656, 4.8289591629228079, 4.809837786230136, 4.8342542232821346], 'curvature': [4.6995000164715703, 4.6850322305940448, 4.6901627721895114, 4.6940501663378962], 'volume': [4.7308095681269497, 4.7274219432529589, 4.8185969995285509, 4.7021156016872441], 'position_common_scale': [4.675008783282987, 4.6771829324308296, 4.673991139256473, 4.6786942620604162], 'length': [4.6981686071636375, 4.7043582420679426, 4.7013534239234698, 4.704152935810102], 'position_non_aligned_scale': [4.6786351673114615, 4.6784331524349376, 4.6771387264797246, 4.6824037864322561]}\n"
     ]
    }
   ],
   "source": [
    "print MLAE"
   ]
  },
  {
   "cell_type": "code",
   "execution_count": 4,
   "metadata": {},
   "outputs": [
    {
     "name": "stdout",
     "output_type": "stream",
     "text": [
      "{'direction': (4.6558701641356812, 0.0013062573291417565), 'angle': (4.6667299095043884, 0.0025548192752843854), 'area': (4.819398474576472, 0.0092344452096892581), 'curvature': (4.6875975013917781, 0.0052971648128280497), 'volume': (4.7730094713907549, 0.044061512880987939), 'position_common_scale': (4.6755870358436518, 0.0018360334747552752), 'length': (4.7028558329957058, 0.0025146468059084985), 'position_non_aligned_scale': (4.6777859394573316, 0.0019628576815574564)}\n"
     ]
    }
   ],
   "source": [
    "VGG_MLAE_average = dict()\n",
    "for e in experiments:\n",
    "    VGG_MLAE_average[e] = (MLAE[e][1] + MLAE[e][2]) / 2, np.std(np.array(MLAE[e]))\n",
    "print VGG_MLAE_average"
   ]
  },
  {
   "cell_type": "code",
   "execution_count": 5,
   "metadata": {
    "collapsed": true
   },
   "outputs": [],
   "source": [
    "def mlae(i):\n",
    "    return np.log2(i+.125)"
   ]
  },
  {
   "cell_type": "code",
   "execution_count": 6,
   "metadata": {},
   "outputs": [
    {
     "name": "stdout",
     "output_type": "stream",
     "text": [
      "{'direction': 3.3398500028846247, 'angle': 3.3540289380543866, 'area': 3.7360636278718133, 'position_common_scale': 3.1415962783838181, 'length': 3.2055489111730338, 'position_non_aligned_scale': 3.09169983413681}\n"
     ]
    }
   ],
   "source": [
    "human_MLAE_average = dict()\n",
    "human_MLAE_average['position_common_scale'] = 8.7 #is the STD the lines on the side?\n",
    "human_MLAE_average['position_non_aligned_scale'] = 8.4\n",
    "human_MLAE_average['length'] = 9.1\n",
    "human_MLAE_average['direction'] = 10\n",
    "human_MLAE_average['angle'] = 10.1\n",
    "human_MLAE_average['area'] = 13.2\n",
    "for a in human_MLAE_average:\n",
    "    human_MLAE_average[a] = mlae(human_MLAE_average[a])\n",
    "print human_MLAE_average"
   ]
  },
  {
   "cell_type": "code",
   "execution_count": 7,
   "metadata": {},
   "outputs": [
    {
     "name": "stdout",
     "output_type": "stream",
     "text": [
      "{'direction': 0.92, 'angle': 0.66, 'area': -0.17, 'curvature': 0.28, 'volume': 0.87, 'position_common_scale': -0.04, 'length': -0.14, 'position_non_aligned_scale': 0.26}\n"
     ]
    }
   ],
   "source": [
    "CP_MLAE_average = dict()\n",
    "CP_MLAE_average['position_common_scale'] = -0.04\n",
    "CP_MLAE_average['position_non_aligned_scale'] = 0.26\n",
    "CP_MLAE_average['length'] = -0.14\n",
    "CP_MLAE_average['direction'] = 0.92\n",
    "CP_MLAE_average['angle'] = 0.66\n",
    "CP_MLAE_average['area'] = -0.17\n",
    "CP_MLAE_average['volume'] = 0.87\n",
    "CP_MLAE_average['curvature'] = 0.28\n",
    "print CP_MLAE_average"
   ]
  },
  {
   "cell_type": "code",
   "execution_count": null,
   "metadata": {
    "collapsed": true
   },
   "outputs": [],
   "source": []
  }
 ],
 "metadata": {
  "kernelspec": {
   "display_name": "Python 2",
   "language": "python",
   "name": "python2"
  },
  "language_info": {
   "codemirror_mode": {
    "name": "ipython",
    "version": 2
   },
   "file_extension": ".py",
   "mimetype": "text/x-python",
   "name": "python",
   "nbconvert_exporter": "python",
   "pygments_lexer": "ipython2",
   "version": "2.7.14"
  }
 },
 "nbformat": 4,
 "nbformat_minor": 2
}
